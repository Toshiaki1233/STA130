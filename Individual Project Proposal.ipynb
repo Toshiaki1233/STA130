{
 "cells": [
  {
   "cell_type": "markdown",
   "id": "5c65c497",
   "metadata": {},
   "source": [
    "**Research Question**"
   ]
  },
  {
   "cell_type": "markdown",
   "id": "e6604d85",
   "metadata": {},
   "source": [
    "Does participation in community activities improve self-reported mental health?"
   ]
  },
  {
   "cell_type": "markdown",
   "id": "2b9dca74",
   "metadata": {},
   "source": [
    "**Describe the variables you plan to explore and how you plan on exploring them**"
   ]
  },
  {
   "cell_type": "markdown",
   "id": "8a08652d",
   "metadata": {},
   "source": [
    "Independent variable: Connection_activities_community_p3m \n",
    "\n",
    "Dependent variable: WELLNESS_self_rated_mental_health\n",
    "\n",
    "\n",
    "Community activities foster social support and belonging, benefiting mental health. Self-rated mental health reflects individuals' overall well-being, making it a suitable outcome.\n",
    "\n",
    "\n",
    "Vizualization:\n",
    "Bar Chart: Show the average mental health score for each group (participants vs. non-participants).\n",
    "Boxplot: Display the distribution of mental health ratings across both groups."
   ]
  },
  {
   "cell_type": "markdown",
   "id": "e59876f1",
   "metadata": {},
   "source": [
    "**Describe the analysis you plan to perform.**"
   ]
  },
  {
   "cell_type": "markdown",
   "id": "97d2e3d4",
   "metadata": {},
   "source": [
    "Simple Linear Regression:\n",
    "If mental health is continuous, you can predict self-rated mental health based on community activity participation (binary predictor).\n",
    "\n",
    "Logistic Regression:\n",
    "If mental health is categorical (e.g., high vs. low), use logistic regression to assess whether participation predicts better mental health.\n",
    "\n",
    "These analyses will allow you to test both the strength and direction of the relationship between community participation and mental health."
   ]
  },
  {
   "cell_type": "markdown",
   "id": "434175e8",
   "metadata": {},
   "source": [
    "**Make a hypothesis for the possible results your analysis may produce and describe how these results would be relevant in answering your research question. If you have completed an analysis, you may include your results.**"
   ]
  },
  {
   "cell_type": "markdown",
   "id": "0b56f985",
   "metadata": {},
   "source": [
    "Null Hypothesis (H₀): There is no significant difference in self-rated mental health between individuals who participate in community activities and those who do not.\n",
    "\n",
    "Alternative Hypothesis (H₁): Individuals who participate in community activities report significantly higher self-rated mental health compared to non-participants.\n",
    "\n",
    "If the analysis shows that participants in community activities have higher average mental health scores, it would suggest that community engagement positively impacts well-being. This would support the idea that social involvement provides emotional support, a sense of purpose, and belonging, contributing to improved mental health."
   ]
  },
  {
   "cell_type": "markdown",
   "id": "863b5393",
   "metadata": {},
   "source": [
    "–--------–--------–--------–--------–--------–--------–--------–--------–--------–--------–--------–---------------"
   ]
  },
  {
   "cell_type": "markdown",
   "id": "7e639c3b",
   "metadata": {},
   "source": [
    "**Research Question**"
   ]
  },
  {
   "cell_type": "markdown",
   "id": "f5407d51",
   "metadata": {},
   "source": [
    "Does the frequency of meaningful interactions with family affect self-reported life satisfaction among Canadians?"
   ]
  },
  {
   "cell_type": "markdown",
   "id": "86d12edd",
   "metadata": {},
   "source": [
    "**Describe the variables you plan to explore and how you plan on exploring them**"
   ]
  },
  {
   "cell_type": "markdown",
   "id": "63122f8d",
   "metadata": {},
   "source": [
    "Independent variable: CONNECTION_meaningful_interactions\n",
    "\n",
    "Dependent variable: WELLNESS_life_satisfaction\n",
    "\n",
    "CONNECTION_meaningful_interactions was chosen because meaningful interactions with family foster emotional support. WELLNESS_life_satisfaction reflects overall happiness and quality of life, making it a suitable outcome.\n",
    "\n",
    "Vizualization:\n",
    "A bar chart can show the average life satisfaction score for each level of meaningful interactions, providing an easy comparison. \n",
    "\n",
    "A boxplot will display the distribution and variability of life satisfaction scores within each interaction frequency group, revealing any patterns or outliers."
   ]
  },
  {
   "cell_type": "markdown",
   "id": "50a703cc",
   "metadata": {},
   "source": [
    "**Describe the analysis you plan to perform.**"
   ]
  },
  {
   "cell_type": "markdown",
   "id": "82efd791",
   "metadata": {},
   "source": [
    "An ANOVA would be good if the interaction frequency is categorical (e.g., daily, weekly) to test for differences in life satisfaction across groups. Alternatively, a simple linear regression can be used if interaction frequency is continuous to assess the relationship between meaningful interactions and life satisfaction."
   ]
  },
  {
   "cell_type": "markdown",
   "id": "3f9725d3",
   "metadata": {},
   "source": [
    "**Make a hypothesis for the possible results your analysis may produce and describe how these results would be relevant in answering your research question. If you have completed an analysis, you may include your results.**"
   ]
  },
  {
   "cell_type": "markdown",
   "id": "503c17a6",
   "metadata": {},
   "source": [
    "Null Hypothesis (H₀): The frequency of meaningful interactions with family has no significant effect on self-reported life satisfaction.\n",
    "\n",
    "Alternative Hypothesis (H₁): Higher frequency of meaningful interactions with family is associated with higher self-reported life satisfaction.\n",
    "\n",
    "If the analysis shows that more frequent meaningful interactions correlate with higher life satisfaction, it would indicate that strong family connections play a key role in promoting well-being. "
   ]
  },
  {
   "cell_type": "markdown",
   "id": "7811562b",
   "metadata": {},
   "source": [
    "–--------–--------–--------–--------–--------–--------–--------–--------–--------–--------–--------–---------------"
   ]
  },
  {
   "cell_type": "markdown",
   "id": "071f74a5",
   "metadata": {},
   "source": [
    "**Research Question**"
   ]
  },
  {
   "cell_type": "markdown",
   "id": "4890d659",
   "metadata": {},
   "source": [
    "Does the frequency of social interactions with friends reduce loneliness among Canadians?"
   ]
  },
  {
   "cell_type": "markdown",
   "id": "3d47ff3f",
   "metadata": {},
   "source": [
    "**Describe the variables you plan to explore and how you plan on exploring them**"
   ]
  },
  {
   "cell_type": "markdown",
   "id": "b9549ec9",
   "metadata": {},
   "source": [
    "Independent variable: CONNECTION_social_days_friends_p7d_grouped\n",
    "\n",
    "Dependent variable: LONELY_ucla_loneliness_scale_isolated\n",
    "\n",
    "CONNECTION_social_days_friends_p7d_grouped was chosen because frequent interactions with friends can provide emotional support. LONELY_ucla_loneliness_scale_isolated captures the subjective experience of loneliness, making it a relevant outcome.\n",
    "\n",
    "Vizualization:\n",
    "A bar chart can display the average loneliness score for each group based on the frequency of social interactions , highlighting trends. A boxplot can show the distribution and variability of loneliness scores within each interaction frequency group, revealing any outliers or patterns."
   ]
  },
  {
   "cell_type": "markdown",
   "id": "e2ffbe90",
   "metadata": {},
   "source": [
    "**Describe the analysis you plan to perform.**"
   ]
  },
  {
   "cell_type": "markdown",
   "id": "3ec95216",
   "metadata": {},
   "source": [
    "I can use an ANOVA to test whether the mean loneliness scores differ significantly across different levels of interaction frequency. If the interaction frequency is treated as continuous, I could perform a linear regression to assess whether more frequent social interactions predict lower loneliness scores."
   ]
  },
  {
   "cell_type": "markdown",
   "id": "0a69284f",
   "metadata": {},
   "source": [
    "**Make a hypothesis for the possible results your analysis may produce and describe how these results would be relevant in answering your research question. If you have completed an analysis, you may include your results.**"
   ]
  },
  {
   "cell_type": "markdown",
   "id": "f79b81da",
   "metadata": {},
   "source": [
    "Null Hypothesis (H₀): The frequency of social interactions with friends has no significant effect on loneliness.\n",
    "\n",
    "Alternative Hypothesis (H₁): Higher frequency of social interactions with friends is associated with lower levels of loneliness.\n",
    "\n",
    "If the analysis shows that more frequent social interactions significantly reduce loneliness, it would suggest that friendships play a vital role in alleviating social isolation. "
   ]
  }
 ],
 "metadata": {
  "kernelspec": {
   "display_name": "Python 3 (ipykernel)",
   "language": "python",
   "name": "python3"
  },
  "language_info": {
   "codemirror_mode": {
    "name": "ipython",
    "version": 3
   },
   "file_extension": ".py",
   "mimetype": "text/x-python",
   "name": "python",
   "nbconvert_exporter": "python",
   "pygments_lexer": "ipython3",
   "version": "3.11.6"
  }
 },
 "nbformat": 4,
 "nbformat_minor": 5
}
