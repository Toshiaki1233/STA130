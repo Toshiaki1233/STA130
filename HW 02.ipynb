{
 "cells": [
  {
   "cell_type": "markdown",
   "id": "0deaeb46",
   "metadata": {},
   "source": [
    "**1. Begin (or restart) part \"3(a)\" of the TUT Demo and interact with a ChatBot to make sure you understand how each part the Monte Hall problem code above works.**"
   ]
  },
  {
   "cell_type": "code",
   "execution_count": 1,
   "id": "8691ff7e",
   "metadata": {},
   "outputs": [
    {
     "data": {
      "text/plain": [
       "0.66649"
      ]
     },
     "execution_count": 1,
     "metadata": {},
     "output_type": "execute_result"
    }
   ],
   "source": [
    "import numpy as np\n",
    "all_door_options = (1,2,3)  # tuple\n",
    "my_door_choice = 1  # 1,2,3\n",
    "i_won = 0\n",
    "reps = 100000\n",
    "for i in range(reps):\n",
    "    secret_winning_door = np.random.choice(all_door_options)\n",
    "    all_door_options_list = list(all_door_options)\n",
    "\n",
    "    all_door_options_list.remove(secret_winning_door)\n",
    "    try:\n",
    "\n",
    "        all_door_options_list.remove(my_door_choice)\n",
    "    except:\n",
    "        pass\n",
    "    # show a \"goat\" losing door and remove it\n",
    "    goat_door_reveal = np.random.choice(all_door_options_list)\n",
    "    all_door_options_list.remove(goat_door_reveal)\n",
    "\n",
    "    if secret_winning_door != my_door_choice:\n",
    "        all_door_options_list.append(secret_winning_door)\n",
    "\n",
    "    my_door_choice = all_door_options_list[0]\n",
    "\n",
    "    if my_door_choice == secret_winning_door:\n",
    "        i_won += 1\n",
    "\n",
    "i_won/reps"
   ]
  },
  {
   "cell_type": "markdown",
   "id": "af44bc17",
   "metadata": {},
   "source": [
    "**2. Extend your ChatBot sessions to now address part \"3(b)\" of the TUT Demo and interact with your ChatBot to see if it can suggest a simpler, more streamlined way to code up this for loop simulation so the process is more clear and easier to understand; then, describe any preferences you have in terms of readibility or explainability between the original code and the code improvements suggested by the ChatBot.**"
   ]
  },
  {
   "cell_type": "code",
   "execution_count": 3,
   "id": "a1a8492b",
   "metadata": {},
   "outputs": [
    {
     "data": {
      "text/plain": [
       "0.66749"
      ]
     },
     "execution_count": 3,
     "metadata": {},
     "output_type": "execute_result"
    }
   ],
   "source": [
    "import numpy as np\n",
    "\n",
    "all_door_options = [1, 2, 3]\n",
    "i_won = 0\n",
    "reps = 100000\n",
    "\n",
    "for _ in range(reps):\n",
    "    secret_winning_door = np.random.choice(all_door_options)\n",
    "    my_door_choice = 1  # Always initially pick door 1\n",
    "    remaining_doors = [door for door in all_door_options if door != my_door_choice and door != secret_winning_door]\n",
    "    goat_door_reveal = np.random.choice(remaining_doors)\n",
    "    \n",
    "    my_door_choice = [door for door in all_door_options if door != my_door_choice and door != goat_door_reveal][0]\n",
    "    \n",
    "    if my_door_choice == secret_winning_door:\n",
    "        i_won += 1\n",
    "\n",
    "win_rate = i_won / reps\n",
    "win_rate"
   ]
  },
  {
   "cell_type": "markdown",
   "id": "cbca1441",
   "metadata": {},
   "source": [
    "Between this and the original code, honestly these two codes are not that different The only difference between the codes is the part where the contestant switches doors. I would prefer the original code for this part, as the steps are more precise and elementary in a way, which makes it more clear on what exactly the code is doing."
   ]
  },
  {
   "cell_type": "markdown",
   "id": "b717197e",
   "metadata": {},
   "source": [
    "**3. Submit your preferred version of the Monty Hall problem that is verified to be running and working with a final printed output of the code; then, add code comments explaining the purpose of each line of the code.**"
   ]
  },
  {
   "cell_type": "code",
   "execution_count": 4,
   "id": "7014448c",
   "metadata": {},
   "outputs": [
    {
     "data": {
      "text/plain": [
       "0.66569"
      ]
     },
     "execution_count": 4,
     "metadata": {},
     "output_type": "execute_result"
    }
   ],
   "source": [
    "import numpy as np\n",
    "all_door_options = (1,2,3)  # tuple\n",
    "my_door_choice = 1  # 1,2,3\n",
    "i_won = 0\n",
    "reps = 100000\n",
    "for i in range(reps):\n",
    "    secret_winning_door = np.random.choice(all_door_options)\n",
    "    all_door_options_list = list(all_door_options)\n",
    "\n",
    "    all_door_options_list.remove(secret_winning_door)\n",
    "    try:\n",
    "\n",
    "        all_door_options_list.remove(my_door_choice)\n",
    "    except:\n",
    "        pass\n",
    "    # show a \"goat\" losing door and remove it\n",
    "    goat_door_reveal = np.random.choice(all_door_options_list)\n",
    "    all_door_options_list.remove(goat_door_reveal)\n",
    "\n",
    "    if secret_winning_door != my_door_choice:\n",
    "        all_door_options_list.append(secret_winning_door)\n",
    "\n",
    "    my_door_choice = all_door_options_list[0]\n",
    "\n",
    "    if my_door_choice == secret_winning_door:\n",
    "        i_won += 1\n",
    "\n",
    "i_won/reps"
   ]
  },
  {
   "cell_type": "markdown",
   "id": "54b140c7",
   "metadata": {},
   "source": [
    "The for loop runs 100000 times, accordring to the code range(reps). It chooses a random door from 1, 2, 3 100000 times. Then, the all door options is turned into a list, then the winning door is removed from the list. Then it tries to remove my door choice, except for when the choice door is the winnning door. The remaining doors in the list is then randomly chosen and revealed as the losing door. Then my door choice becomes the other remaining door. If the door choice is the winning door, i_won is added once. Finally, the number of wins devided by reps is done, revealing the probability."
   ]
  },
  {
   "cell_type": "markdown",
   "id": "5e7aa416",
   "metadata": {},
   "source": [
    "**4. Watch the embedded video tutorial on Markov chains in the next Jupyter cell below to understand their application and relevance for ChatBots; then, after watching the video, start a new ChatBot session by prompting that you have code that creates a \"Markovian ChatBot\"; show it the first version of the \"Markovian ChatBot code\" below; and interact with the ChatBot session to make sure you understand how the original first version of the \"Markovian ChatBot code\" works.**"
   ]
  },
  {
   "cell_type": "code",
   "execution_count": 7,
   "id": "808d1307",
   "metadata": {},
   "outputs": [
    {
     "ename": "SyntaxError",
     "evalue": "invalid syntax (4047033595.py, line 1)",
     "output_type": "error",
     "traceback": [
      "\u001b[0;36m  Cell \u001b[0;32mIn[7], line 1\u001b[0;36m\u001b[0m\n\u001b[0;31m    import (\u001b[0m\n\u001b[0m           ^\u001b[0m\n\u001b[0;31mSyntaxError\u001b[0m\u001b[0;31m:\u001b[0m invalid syntax\n"
     ]
    }
   ],
   "source": [
    "// Command charchain generates text character-by-character\n",
    "// by building a Markov chain on a text document.\n",
    "package main\n",
    "\n",
    "import (\n",
    "\t\"fmt\"\n",
    "\t\"io/ioutil\"\n",
    "\t\"log\"\n",
    "\t\"math/rand\"\n",
    "\t\"os\"\n",
    "\t\"strconv\"\n",
    "\t\"strings\"\n",
    "\n",
    "\t\"github.com/unixpickle/markovchain\"\n",
    ")\n",
    "\n",
    "func main() {\n",
    "\tif len(os.Args) != 3 {\n",
    "\t\tfmt.Fprintf(os.Stderr, \"Usage: %s text_doc.txt history_size\\n\", os.Args[0])\n",
    "\t\tos.Exit(1)\n",
    "\t}\n",
    "\n",
    "\thistorySize, err := strconv.Atoi(os.Args[2])\n",
    "\tif err != nil {\n",
    "\t\tfmt.Fprintln(os.Stderr, \"Invalid history size:\", os.Args[2])\n",
    "\t\tos.Exit(1)\n",
    "\t}\n",
    "\n",
    "\tbody, err := ioutil.ReadFile(os.Args[1])\n",
    "\tif err != nil {\n",
    "\t\tfmt.Fprintln(os.Stderr, \"Failed to read text:\", err)\n",
    "\t\tos.Exit(1)\n",
    "\t}\n",
    "\n",
    "\tfields := strings.Split(string(body), \"\")\n",
    "\tfieldChan := make(chan string, 10)\n",
    "\tgo func() {\n",
    "\t\tfor _, field := range fields {\n",
    "\t\t\tfieldChan <- field\n",
    "\t\t}\n",
    "\t\tclose(fieldChan)\n",
    "\t}()\n",
    "\n",
    "\tlog.Println(\"Building chain...\")\n",
    "\tchain := markovchain.NewChainText(fieldChan, historySize)\n",
    "\tlog.Println(\"Generating text...\")\n",
    "\tstate := randomStart(chain)\n",
    "\tfor i := 0; i < 1000; i++ {\n",
    "\t\tts := state.(markovchain.TextState)\n",
    "\t\tfmt.Print(ts[len(ts)-1])\n",
    "\t\tstate = randomTransition(chain, state)\n",
    "\t}\n",
    "\tfmt.Println(\"\")\n",
    "}\n",
    "\n",
    "func randomStart(ch *markovchain.Chain) markovchain.State {\n",
    "\tvar allStates []markovchain.State\n",
    "\tch.Iterate(func(s *markovchain.StateTransitions) bool {\n",
    "\t\tallStates = append(allStates, s.State)\n",
    "\t\treturn true\n",
    "\t})\n",
    "\tstate := allStates[rand.Intn(len(allStates))]\n",
    "\n",
    "\t// Run through the markov chain to land at a more\n",
    "\t// likely state.\n",
    "\tfor i := 0; i < 10; i++ {\n",
    "\t\tnewState := randomTransition(ch, state)\n",
    "\t\tif newState == nil {\n",
    "\t\t\tbreak\n",
    "\t\t}\n",
    "\t\tstate = newState\n",
    "\t}\n",
    "\n",
    "\treturn state\n",
    "}\n",
    "\n",
    "func randomTransition(ch *markovchain.Chain, state markovchain.State) markovchain.State {\n",
    "\tentry := ch.Lookup(state)\n",
    "\tif entry == nil || len(entry.Targets) == 0 {\n",
    "\t\treturn nil\n",
    "\t}\n",
    "\n",
    "\tprob := rand.Float64()\n",
    "\tvar curProb float64\n",
    "\tfor i, x := range entry.Probabilities {\n",
    "\t\tcurProb += x\n",
    "\t\tif curProb > prob {\n",
    "\t\t\treturn entry.Targets[i]\n",
    "\t\t}\n",
    "\t}\n",
    "\n",
    "\treturn entry.Targets[len(entry.Targets)-1]\n",
    "}"
   ]
  },
  {
   "cell_type": "markdown",
   "id": "2adcc398",
   "metadata": {},
   "source": [
    "**5. Recreate (or resume) the previous ChatBot session from question \"4\" above, and now prompt the ChatBot session that you have a couple extensions of the code to show it, and then show it each of the extentions of the \"Markovian ChatBot code\" below in turn.**"
   ]
  },
  {
   "cell_type": "markdown",
   "id": "0093a250",
   "metadata": {},
   "source": [
    "1. Without just supplying your ChatBot session with the answers, see if the ChatBot can figure out what the extensions in the code do; namely, making character specific Markov chains, and using bigrams (rather than just the previous word alone) dependency... prompt your ChatBot session with some hints if it's not seeming to \"get it\"."
   ]
  },
  {
   "cell_type": "markdown",
   "id": "9f60a332",
   "metadata": {},
   "source": [
    "2. Interact with your ChatBot session to have it explain details of the code wherever you need help understanding what the code is doing and how it works"
   ]
  },
  {
   "cell_type": "markdown",
   "id": "aa375391",
   "metadata": {},
   "source": [
    "3. Start yet another new ChatBot session and first show the ChatBot the original \"Markovian ChatBot code\" below, and then tell ChatBot that you have an extension but this time just directly provide it the more complicated final extension without ever providing the intermediate extension code to the ChatBot session and see if it's still able to understand everything extension does; namely, making character specific Markov chains, and using bigrams (rather than just the previous word alone) dependency... prompt the ChatBot with some hints if it's not seeming to understand what you're getting at..."
   ]
  },
  {
   "cell_type": "markdown",
   "id": "871f63bc",
   "metadata": {},
   "source": [
    "**6. Report on your experience interacting with ChatBots to understand the Monte Hall problem and \"Markovian ChatBot\" code.**"
   ]
  },
  {
   "cell_type": "markdown",
   "id": "30c382de",
   "metadata": {},
   "source": [
    "1. Discuss how quickly the ChatBot was able to be helpful for each of the above questions, and if so, how?\n"
   ]
  },
  {
   "cell_type": "markdown",
   "id": "753c57d6",
   "metadata": {},
   "source": [
    "The ChatBot quickly provided help with both the Monte Hall problem and the \"Markovian ChatBot\" code. It explained the probabilities and strategy for Monte Hall clearly, and offered useful suggestions for the Markov model. The responses were efficient, making the interaction smooth and productive."
   ]
  },
  {
   "cell_type": "markdown",
   "id": "a2016588",
   "metadata": {},
   "source": [
    "2. Discuss whether or not interacting with ChatBot to try to figure things out was frustrating or unhelpful, and if so, how?"
   ]
  },
  {
   "cell_type": "markdown",
   "id": "9177c1c3",
   "metadata": {},
   "source": [
    "Interacting with the ChatBot wasn’t particularly frustrating, as it provided clear and relevant information. However, there were moments when I had to rephrase or clarify my questions to get the most accurate response, which could slow things down slightly. Overall, though, the assistance was helpful, and the need for adjustments didn’t outweigh the value of ChatBots."
   ]
  },
  {
   "cell_type": "markdown",
   "id": "24aba86a",
   "metadata": {},
   "source": [
    "3.  Based on your experiences to date (e.g., including using ChatBots to troubleshoot coding errors in the previous homework), provide an overall assessment evaluating the usefulness of ChatBots as tools to help you understand code"
   ]
  },
  {
   "cell_type": "markdown",
   "id": "8000b6c6",
   "metadata": {},
   "source": [
    "Overall, ChatBots are useful for understanding code with clear explanations. While they sometimes need specific prompts, their instant feedback is valuable, especially with more well-defined problems. It helped me a lot to understand the Monte Hall problem code and the 'Markovian ChatBot' code. ChatBots would sometimes struggle with more complex problems that require more advanced knowledge though."
   ]
  },
  {
   "cell_type": "markdown",
   "id": "1c144747",
   "metadata": {},
   "source": [
    "**7. Reflect on your experience interacting with ChatBot and describe how your perception of AI-driven assistance tools in the context of learning coding, statistics, and data science has been evolving (or not) since joining the course.**"
   ]
  },
  {
   "cell_type": "markdown",
   "id": "3b044810",
   "metadata": {},
   "source": [
    "My views on ChatBot since starting this course has not changed that much. I have always understand how useful ChatBot can be, but I have only just started implementing more of this for the classes. There was a trend in the education community to try to avoid ChatBots as much possible, but this course encourages the use of this which is new."
   ]
  },
  {
   "cell_type": "markdown",
   "id": "51c0fc52",
   "metadata": {},
   "source": [
    "**8. ChatBots consume text data available on the web or platforms, and thus represents a new way to \"search consensensus\" that condenses and summarizes mainstream human thought.**"
   ]
  },
  {
   "cell_type": "markdown",
   "id": "6cba70f2",
   "metadata": {},
   "source": [
    "1. Start a new ChatBot session and discuss the relevance of learning and adaptability, communication, coding, and statistics and data analysis as skills in the modern world, especially with respect to career opportunities (particularly in the context of the data science industry)."
   ]
  },
  {
   "cell_type": "markdown",
   "id": "6272ed89",
   "metadata": {},
   "source": [
    "2. See if ChatBot thinks you could be a statistician or data scientist without coding or doing data analysis, and then transition your ChatBot conversation into a career exploration discussion, using the ChatBot to identify the skills that might be the most valuable for a career that you're interested."
   ]
  },
  {
   "cell_type": "markdown",
   "id": "142d3933",
   "metadata": {},
   "source": [
    "3. Ask for a summary of this ChatBot session and paste it into your homework notebook (including link(s) to chat log histories if you're using ChatBot)."
   ]
  },
  {
   "cell_type": "markdown",
   "id": "57f07378",
   "metadata": {},
   "source": [
    "In this conversation, you initially asked about the relevance of specific skills such as learning and adaptability, communication, coding, and statistics in the modern world, particularly in the data science industry. I explained how these skills are interconnected and crucial in data science careers, emphasizing that learning adaptability, communication, coding, and data analysis all contribute to career success in this field.\n",
    "\n",
    "Next, you inquired if it was possible to be a statistician or data scientist without coding or data analysis. I explained that while certain roles like advisory or managerial positions might allow you to avoid hands-on coding and analysis, having a foundational understanding of these skills is typically expected for most data-related roles.\n",
    "\n",
    "Finally, you expressed interest in exploring careers and specifically wanted to know which skills would be most valuable for a software engineer. I provided a detailed breakdown of the essential technical and soft skills needed, including programming languages, algorithms, version control, frameworks, databases, cloud computing, problem-solving, and Agile methodologies, along with the importance of communication, collaboration, and open-source contributions."
   ]
  },
  {
   "cell_type": "markdown",
   "id": "bda24b06",
   "metadata": {},
   "source": [
    "4. Paraphrase the assessments and conclusions of your conversation in the form of a reflection on your current thoughts regarding your potential future career(s) and how you can go about building the skills you need to pursue it."
   ]
  },
  {
   "cell_type": "markdown",
   "id": "307b0a9f",
   "metadata": {},
   "source": [
    "As I reflect on the recent career exploration, especially in software engineering and data science, I think one needs to possess a fusion of technical skills with soft skills. Basically, learning and adaptability provide a foundation for every modern tech career—be it knowledge about new programming languages, understanding emergent technologies, or methodology. I know I need to be flexible and willing to learn."
   ]
  },
  {
   "cell_type": "markdown",
   "id": "d83a80ee",
   "metadata": {},
   "source": [
    "5. Give your thoughts regarding the helpfulness or limitations of your conversation with a ChatBot, and describe the next steps you would take to pursue this conversation further if you felt the information the ChatBot provides was somewhat high level and general, and perhaps lacked the depth and detailed knowledge of a dedicated subject matter expert who had really take the time to understand the ins and outs of the industry and career path in question."
   ]
  },
  {
   "cell_type": "markdown",
   "id": "941114ad",
   "metadata": {},
   "source": [
    "While chatbots provide fast general thoughts and systematic advice, they lack depth, personalization, and industry-specific know-how. For more advanced knowledge, I need to find myself an industry insider, professional community, specialized course, and such. ChatBots are not all knowing for now."
   ]
  },
  {
   "cell_type": "markdown",
   "id": "15c603dc",
   "metadata": {},
   "source": [
    "**9. Have you reviewed the course wiki-textbook and interacted with a ChatBot (or, if that wasn't sufficient, real people in the course piazza discussion board or TA office hours) to help you understand all the material in the tutorial and lecture that you didn't quite follow when you first saw it?**"
   ]
  },
  {
   "cell_type": "markdown",
   "id": "e8872da5",
   "metadata": {},
   "source": [
    "Yes."
   ]
  },
  {
   "cell_type": "markdown",
   "id": "06e510ed",
   "metadata": {},
   "source": [
    "Question 8: https://chatgpt.com/share/66f20613-ba9c-8001-bf7b-76b10acb06d6"
   ]
  },
  {
   "cell_type": "markdown",
   "id": "3d27026d",
   "metadata": {},
   "source": [
    "Questions 1 - 3: https://chatgpt.com/share/66f20bc6-5e60-8001-bdae-8d38a8685bf3"
   ]
  },
  {
   "cell_type": "markdown",
   "id": "58021c9a",
   "metadata": {},
   "source": [
    "Questions 4 - 5: https://chatgpt.com/share/66f20e3c-d970-8001-85f4-40d5457cc55b"
   ]
  }
 ],
 "metadata": {
  "kernelspec": {
   "display_name": "Python 3 (ipykernel)",
   "language": "python",
   "name": "python3"
  },
  "language_info": {
   "codemirror_mode": {
    "name": "ipython",
    "version": 3
   },
   "file_extension": ".py",
   "mimetype": "text/x-python",
   "name": "python",
   "nbconvert_exporter": "python",
   "pygments_lexer": "ipython3",
   "version": "3.11.6"
  }
 },
 "nbformat": 4,
 "nbformat_minor": 5
}
